{
 "cells": [
  {
   "attachments": {},
   "cell_type": "markdown",
   "metadata": {},
   "source": [
    "This is just a sample code to give you an idea regarding imputation and running an unsupervised model for clustering columns in the helper dataset to get an additional feature to use in the actual dataset. I have modified it so expect some errors. A similar operation is required on the test helper dataset."
   ]
  },
  {
   "cell_type": "code",
   "execution_count": 2,
   "metadata": {},
   "outputs": [],
   "source": [
    "import pandas as pd\n",
    "import numpy as np\n",
    "from sklearn.cluster import KMeans\n",
    "from sklearn.preprocessing import LabelEncoder"
   ]
  },
  {
   "cell_type": "code",
   "execution_count": 3,
   "metadata": {},
   "outputs": [],
   "source": [
    "tr_h = pd.read_csv('train_helper.csv')\n",
    "tr = pd.read_csv('train.csv')\n",
    "df_tr = tr\n",
    "df_tr_h = tr_h"
   ]
  },
  {
   "attachments": {},
   "cell_type": "markdown",
   "metadata": {},
   "source": [
    "Imputer begins\n",
    "\n",
    "- you can use any regressor other than that used here"
   ]
  },
  {
   "cell_type": "code",
   "execution_count": 4,
   "metadata": {},
   "outputs": [],
   "source": [
    "#imputation for missing data\n",
    "\n",
    "from sklearn.experimental import enable_iterative_imputer\n",
    "from sklearn.impute import IterativeImputer\n",
    "from sklearn.ensemble import RandomForestRegressor"
   ]
  },
  {
   "cell_type": "code",
   "execution_count": 5,
   "metadata": {},
   "outputs": [
    {
     "name": "stderr",
     "output_type": "stream",
     "text": [
      "C:\\Users\\neela\\AppData\\Roaming\\Python\\Python311\\site-packages\\sklearn\\impute\\_iterative.py:785: ConvergenceWarning: [IterativeImputer] Early stopping criterion not reached.\n",
      "  warnings.warn(\n"
     ]
    }
   ],
   "source": [
    "missing_val_cols = ['V20', 'V21']\n",
    "regressor = RandomForestRegressor()\n",
    "imputer = IterativeImputer(estimator=regressor, random_state=42)\n",
    "\n",
    "df_tr_h[missing_val_cols] = imputer.fit_transform(df_tr_h[missing_val_cols])"
   ]
  },
  {
   "attachments": {},
   "cell_type": "markdown",
   "metadata": {},
   "source": [
    "Imputer ends"
   ]
  },
  {
   "cell_type": "code",
   "execution_count": 14,
   "metadata": {},
   "outputs": [],
   "source": [
    "selected_cols = ['V3', 'V14', 'V15', 'V16', 'V17', 'V18', 'V19', 'V20', 'V21']"
   ]
  },
  {
   "cell_type": "code",
   "execution_count": 12,
   "metadata": {},
   "outputs": [],
   "source": [
    "df_tr_h = pd.read_csv('train_helper_NaN.csv')\n",
    "# df_tr['V5_yearday'] = pd.to_datetime(df_tr['V5']).dt.day_of_year\n",
    "df_tr_h['V16_month'] = pd.to_datetime(df_tr_h['V16']).dt.month\n",
    "df_tr_h['V16_day'] = pd.to_datetime(df_tr_h['V16']).dt.day\n",
    "df_tr_h['V16_hour'] = pd.to_datetime(df_tr_h['V16']).dt.hour\n",
    "df_tr_h['V16_minute'] = pd.to_datetime(df_tr_h['V16']).dt.minute\n",
    "try:\n",
    "    df_tr_h.drop('Unnamed: 0', axis=1, inplace=True)\n",
    "except:\n",
    "    pass\n",
    "unique_cuid = df_tr_h"
   ]
  },
  {
   "cell_type": "code",
   "execution_count": 14,
   "metadata": {},
   "outputs": [],
   "source": [
    "# unique_cuid = df_tr_h.drop_duplicates(subset=['V1']).reset_index(drop=True)\n",
    "# unique_eid = df_tr_h.drop_duplicates(subset=['V3']).reset_index(drop=True)\n",
    "unique_cuid = unique_cuid.groupby('V1')"
   ]
  },
  {
   "cell_type": "code",
   "execution_count": 15,
   "metadata": {},
   "outputs": [],
   "source": [
    "unique_cuid = unique_cuid.mean()"
   ]
  },
  {
   "cell_type": "code",
   "execution_count": 17,
   "metadata": {},
   "outputs": [],
   "source": [
    "unique_cuid.drop('Unnamed: 0.1', axis=1, inplace=True)"
   ]
  },
  {
   "cell_type": "code",
   "execution_count": 5,
   "metadata": {},
   "outputs": [
    {
     "ename": "AttributeError",
     "evalue": "'DataFrameGroupBy' object has no attribute 'drop'",
     "output_type": "error",
     "traceback": [
      "\u001b[1;31m---------------------------------------------------------------------------\u001b[0m",
      "\u001b[1;31mAttributeError\u001b[0m                            Traceback (most recent call last)",
      "Cell \u001b[1;32mIn[5], line 1\u001b[0m\n\u001b[1;32m----> 1\u001b[0m unique_cuid\u001b[39m.\u001b[39;49mdrop(\u001b[39m'\u001b[39m\u001b[39mUnnamed: 0\u001b[39m\u001b[39m'\u001b[39m, axis\u001b[39m=\u001b[39m\u001b[39m1\u001b[39m, inplace\u001b[39m=\u001b[39m\u001b[39mTrue\u001b[39;00m)\n\u001b[0;32m      2\u001b[0m \u001b[39m# unique_eid.drop('Unnamed: 0', axis=1, inplace=True)\u001b[39;00m\n",
      "File \u001b[1;32m~\\AppData\\Roaming\\Python\\Python311\\site-packages\\pandas\\core\\groupby\\groupby.py:952\u001b[0m, in \u001b[0;36mGroupBy.__getattr__\u001b[1;34m(self, attr)\u001b[0m\n\u001b[0;32m    949\u001b[0m \u001b[39mif\u001b[39;00m attr \u001b[39min\u001b[39;00m \u001b[39mself\u001b[39m\u001b[39m.\u001b[39mobj:\n\u001b[0;32m    950\u001b[0m     \u001b[39mreturn\u001b[39;00m \u001b[39mself\u001b[39m[attr]\n\u001b[1;32m--> 952\u001b[0m \u001b[39mraise\u001b[39;00m \u001b[39mAttributeError\u001b[39;00m(\n\u001b[0;32m    953\u001b[0m     \u001b[39mf\u001b[39m\u001b[39m\"\u001b[39m\u001b[39m'\u001b[39m\u001b[39m{\u001b[39;00m\u001b[39mtype\u001b[39m(\u001b[39mself\u001b[39m)\u001b[39m.\u001b[39m\u001b[39m__name__\u001b[39m\u001b[39m}\u001b[39;00m\u001b[39m'\u001b[39m\u001b[39m object has no attribute \u001b[39m\u001b[39m'\u001b[39m\u001b[39m{\u001b[39;00mattr\u001b[39m}\u001b[39;00m\u001b[39m'\u001b[39m\u001b[39m\"\u001b[39m\n\u001b[0;32m    954\u001b[0m )\n",
      "\u001b[1;31mAttributeError\u001b[0m: 'DataFrameGroupBy' object has no attribute 'drop'"
     ]
    }
   ],
   "source": [
    "unique_cuid.drop('Unnamed: 0', axis=1, inplace=True)\n",
    "# unique_eid.drop('Unnamed: 0', axis=1, inplace=True)"
   ]
  },
  {
   "cell_type": "code",
   "execution_count": 21,
   "metadata": {},
   "outputs": [
    {
     "ename": "KeyError",
     "evalue": "'V1'",
     "output_type": "error",
     "traceback": [
      "\u001b[1;31m---------------------------------------------------------------------------\u001b[0m",
      "\u001b[1;31mKeyError\u001b[0m                                  Traceback (most recent call last)",
      "File \u001b[1;32m~\\AppData\\Roaming\\Python\\Python311\\site-packages\\pandas\\core\\indexes\\base.py:3652\u001b[0m, in \u001b[0;36mIndex.get_loc\u001b[1;34m(self, key)\u001b[0m\n\u001b[0;32m   3651\u001b[0m \u001b[39mtry\u001b[39;00m:\n\u001b[1;32m-> 3652\u001b[0m     \u001b[39mreturn\u001b[39;00m \u001b[39mself\u001b[39;49m\u001b[39m.\u001b[39;49m_engine\u001b[39m.\u001b[39;49mget_loc(casted_key)\n\u001b[0;32m   3653\u001b[0m \u001b[39mexcept\u001b[39;00m \u001b[39mKeyError\u001b[39;00m \u001b[39mas\u001b[39;00m err:\n",
      "File \u001b[1;32m~\\AppData\\Roaming\\Python\\Python311\\site-packages\\pandas\\_libs\\index.pyx:147\u001b[0m, in \u001b[0;36mpandas._libs.index.IndexEngine.get_loc\u001b[1;34m()\u001b[0m\n",
      "File \u001b[1;32m~\\AppData\\Roaming\\Python\\Python311\\site-packages\\pandas\\_libs\\index.pyx:176\u001b[0m, in \u001b[0;36mpandas._libs.index.IndexEngine.get_loc\u001b[1;34m()\u001b[0m\n",
      "File \u001b[1;32mpandas\\_libs\\hashtable_class_helper.pxi:7080\u001b[0m, in \u001b[0;36mpandas._libs.hashtable.PyObjectHashTable.get_item\u001b[1;34m()\u001b[0m\n",
      "File \u001b[1;32mpandas\\_libs\\hashtable_class_helper.pxi:7088\u001b[0m, in \u001b[0;36mpandas._libs.hashtable.PyObjectHashTable.get_item\u001b[1;34m()\u001b[0m\n",
      "\u001b[1;31mKeyError\u001b[0m: 'V1'",
      "\nThe above exception was the direct cause of the following exception:\n",
      "\u001b[1;31mKeyError\u001b[0m                                  Traceback (most recent call last)",
      "Cell \u001b[1;32mIn[21], line 1\u001b[0m\n\u001b[1;32m----> 1\u001b[0m cuid \u001b[39m=\u001b[39m pd\u001b[39m.\u001b[39mDataFrame(unique_cuid[\u001b[39m'\u001b[39;49m\u001b[39mV1\u001b[39;49m\u001b[39m'\u001b[39;49m])\n\u001b[0;32m      2\u001b[0m \u001b[39m# eid = pd.DataFrame(unique_eid['V3'])\u001b[39;00m\n",
      "File \u001b[1;32m~\\AppData\\Roaming\\Python\\Python311\\site-packages\\pandas\\core\\frame.py:3761\u001b[0m, in \u001b[0;36mDataFrame.__getitem__\u001b[1;34m(self, key)\u001b[0m\n\u001b[0;32m   3759\u001b[0m \u001b[39mif\u001b[39;00m \u001b[39mself\u001b[39m\u001b[39m.\u001b[39mcolumns\u001b[39m.\u001b[39mnlevels \u001b[39m>\u001b[39m \u001b[39m1\u001b[39m:\n\u001b[0;32m   3760\u001b[0m     \u001b[39mreturn\u001b[39;00m \u001b[39mself\u001b[39m\u001b[39m.\u001b[39m_getitem_multilevel(key)\n\u001b[1;32m-> 3761\u001b[0m indexer \u001b[39m=\u001b[39m \u001b[39mself\u001b[39;49m\u001b[39m.\u001b[39;49mcolumns\u001b[39m.\u001b[39;49mget_loc(key)\n\u001b[0;32m   3762\u001b[0m \u001b[39mif\u001b[39;00m is_integer(indexer):\n\u001b[0;32m   3763\u001b[0m     indexer \u001b[39m=\u001b[39m [indexer]\n",
      "File \u001b[1;32m~\\AppData\\Roaming\\Python\\Python311\\site-packages\\pandas\\core\\indexes\\base.py:3654\u001b[0m, in \u001b[0;36mIndex.get_loc\u001b[1;34m(self, key)\u001b[0m\n\u001b[0;32m   3652\u001b[0m     \u001b[39mreturn\u001b[39;00m \u001b[39mself\u001b[39m\u001b[39m.\u001b[39m_engine\u001b[39m.\u001b[39mget_loc(casted_key)\n\u001b[0;32m   3653\u001b[0m \u001b[39mexcept\u001b[39;00m \u001b[39mKeyError\u001b[39;00m \u001b[39mas\u001b[39;00m err:\n\u001b[1;32m-> 3654\u001b[0m     \u001b[39mraise\u001b[39;00m \u001b[39mKeyError\u001b[39;00m(key) \u001b[39mfrom\u001b[39;00m \u001b[39merr\u001b[39;00m\n\u001b[0;32m   3655\u001b[0m \u001b[39mexcept\u001b[39;00m \u001b[39mTypeError\u001b[39;00m:\n\u001b[0;32m   3656\u001b[0m     \u001b[39m# If we have a listlike key, _check_indexing_error will raise\u001b[39;00m\n\u001b[0;32m   3657\u001b[0m     \u001b[39m#  InvalidIndexError. Otherwise we fall through and re-raise\u001b[39;00m\n\u001b[0;32m   3658\u001b[0m     \u001b[39m#  the TypeError.\u001b[39;00m\n\u001b[0;32m   3659\u001b[0m     \u001b[39mself\u001b[39m\u001b[39m.\u001b[39m_check_indexing_error(key)\n",
      "\u001b[1;31mKeyError\u001b[0m: 'V1'"
     ]
    }
   ],
   "source": [
    "cuid = pd.DataFrame(unique_cuid['V1'])\n",
    "# eid = pd.DataFrame(unique_eid['V3'])"
   ]
  },
  {
   "cell_type": "code",
   "execution_count": 13,
   "metadata": {},
   "outputs": [],
   "source": [
    "categorical_cols = ['V3', 'V14', 'V15', 'V16', 'V17']\n",
    "label_encoder = LabelEncoder()\n",
    "for col in categorical_cols:\n",
    "    unique_cuid[col] = label_encoder.fit_transform(unique_cuid[col])\n",
    "    # unique_eid[col] = label_encoder.fit_transform(unique_eid[col])"
   ]
  },
  {
   "attachments": {},
   "cell_type": "markdown",
   "metadata": {},
   "source": [
    "Using count encoder"
   ]
  },
  {
   "cell_type": "code",
   "execution_count": 121,
   "metadata": {},
   "outputs": [],
   "source": [
    "# import category_encoders as ce\n",
    "\n",
    "# columns_encode = ['V3', 'V14', 'V15', 'V17']\n",
    "# encoder = ce.CountEncoder(cols=columns_encode)\n",
    "# unique_cuid = encoder.fit_transform(unique_cuid)"
   ]
  },
  {
   "cell_type": "code",
   "execution_count": 18,
   "metadata": {},
   "outputs": [],
   "source": [
    "cluster_cols = ['V15', 'V17']#'V16_month', 'V16_day', 'V16_hour', 'V16_minute', 'V17']#, 'V18', 'V19', 'V20', 'V21']\n",
    "cluster_data_cuid = unique_cuid[cluster_cols]\n",
    "# cluster_data_eid = unique_eid[cluster_cols]"
   ]
  },
  {
   "cell_type": "code",
   "execution_count": 19,
   "metadata": {},
   "outputs": [
    {
     "name": "stderr",
     "output_type": "stream",
     "text": [
      "C:\\Users\\neela\\AppData\\Roaming\\Python\\Python311\\site-packages\\sklearn\\cluster\\_kmeans.py:870: FutureWarning: The default value of `n_init` will change from 10 to 'auto' in 1.4. Set the value of `n_init` explicitly to suppress the warning\n",
      "  warnings.warn(\n"
     ]
    }
   ],
   "source": [
    "n_cluster = 3\n",
    "kmeans_cuid = KMeans(n_clusters=n_cluster, random_state=42)\n",
    "# kmeans_eid = KMeans(n_clusters=n_cluster, random_state=42)\n",
    "kmeans_cuid.fit(cluster_data_cuid)\n",
    "# kmeans_eid.fit(cluster_data_eid)\n",
    "cluster_labels_cuid = kmeans_cuid.labels_\n",
    "# cluster_labels_eid = kmeans_eid.labels_"
   ]
  },
  {
   "cell_type": "code",
   "execution_count": 22,
   "metadata": {},
   "outputs": [],
   "source": [
    "cluster_labels_cuid['V1'] = unique_cuid.index"
   ]
  },
  {
   "cell_type": "code",
   "execution_count": 20,
   "metadata": {},
   "outputs": [
    {
     "ename": "NameError",
     "evalue": "name 'cuid' is not defined",
     "output_type": "error",
     "traceback": [
      "\u001b[1;31m---------------------------------------------------------------------------\u001b[0m",
      "\u001b[1;31mNameError\u001b[0m                                 Traceback (most recent call last)",
      "Cell \u001b[1;32mIn[20], line 3\u001b[0m\n\u001b[0;32m      1\u001b[0m cluster_labels_cuid \u001b[39m=\u001b[39m pd\u001b[39m.\u001b[39mDataFrame(cluster_labels_cuid)\n\u001b[0;32m      2\u001b[0m \u001b[39m# cluster_labels_eid = pd.DataFrame(cluster_labels_eid)\u001b[39;00m\n\u001b[1;32m----> 3\u001b[0m cluster_labels_cuid[\u001b[39m'\u001b[39m\u001b[39mV1\u001b[39m\u001b[39m'\u001b[39m] \u001b[39m=\u001b[39m cuid[\u001b[39m'\u001b[39m\u001b[39mV1\u001b[39m\u001b[39m'\u001b[39m]\n\u001b[0;32m      4\u001b[0m \u001b[39m# cluster_labels_eid['V3'] = eid['V3']\u001b[39;00m\n",
      "\u001b[1;31mNameError\u001b[0m: name 'cuid' is not defined"
     ]
    }
   ],
   "source": [
    "cluster_labels_cuid = pd.DataFrame(cluster_labels_cuid)\n",
    "# cluster_labels_eid = pd.DataFrame(cluster_labels_eid)\n",
    "cluster_labels_cuid['V1'] = cuid['V1']\n",
    "# cluster_labels_eid['V3'] = eid['V3']"
   ]
  },
  {
   "cell_type": "code",
   "execution_count": 23,
   "metadata": {},
   "outputs": [],
   "source": [
    "train = pd.read_csv('train.csv')"
   ]
  },
  {
   "cell_type": "code",
   "execution_count": 24,
   "metadata": {},
   "outputs": [],
   "source": [
    "train = train.merge(cluster_labels_cuid, on='V1', how='left')\n",
    "# train = train.merge(cluster_labels_eid, on='V3', how='left')"
   ]
  },
  {
   "cell_type": "code",
   "execution_count": 25,
   "metadata": {},
   "outputs": [],
   "source": [
    "# train.rename(columns={'0_x': 'column_label_cuid', '0_y': 'coulumn_label_eid'}, inplace=True)\n",
    "train.rename(columns={0: 'column_label_cuid'}, inplace=True)"
   ]
  },
  {
   "attachments": {},
   "cell_type": "markdown",
   "metadata": {},
   "source": [
    "get a similar output for the test dataset, remember that the column count should always be the same for train and test"
   ]
  },
  {
   "cell_type": "code",
   "execution_count": 26,
   "metadata": {},
   "outputs": [],
   "source": [
    "train.to_csv('mod_train.csv')"
   ]
  },
  {
   "attachments": {},
   "cell_type": "markdown",
   "metadata": {},
   "source": [
    "Creating a supervised model on mod_train dataset (this was a complete waste, couldn't implement much)"
   ]
  },
  {
   "cell_type": "code",
   "execution_count": 16,
   "metadata": {},
   "outputs": [],
   "source": [
    "from sklearn.model_selection import train_test_split\n",
    "import pandas as pd\n",
    "from sklearn.preprocessing import LabelEncoder\n",
    "import numpy as np"
   ]
  },
  {
   "cell_type": "code",
   "execution_count": 4,
   "metadata": {},
   "outputs": [],
   "source": [
    "df_tr = pd.read_csv('mod_train.csv')\n",
    "# df_tr['V5_yearday'] = pd.to_datetime(df_tr['V5']).dt.day_of_year\n",
    "df_tr['V5_month'] = pd.to_datetime(df_tr['V5']).dt.month\n",
    "df_tr['V5_day'] = pd.to_datetime(df_tr['V5']).dt.day\n",
    "# df_tr['V5_hour'] = pd.to_datetime(df_tr['V5']).dt.hour\n",
    "# df_tr['V13_yearday'] = pd.to_datetime(df_tr['V13']).dt.day_of_year\n",
    "df_tr['V13_month'] = pd.to_datetime(df_tr['V13']).dt.month\n",
    "df_tr['V13_day'] = pd.to_datetime(df_tr['V13']).dt.day"
   ]
  },
  {
   "cell_type": "code",
   "execution_count": 6,
   "metadata": {},
   "outputs": [],
   "source": [
    "df_tr.drop('Unnamed: 0', axis=1, inplace=True)"
   ]
  },
  {
   "cell_type": "code",
   "execution_count": 8,
   "metadata": {},
   "outputs": [],
   "source": [
    "columns_drop = ['V1', 'V2', 'V5', 'V11', 'V13', 'Target']\n",
    "x_tr = df_tr.drop(columns_drop, axis=1)\n",
    "y_tr = df_tr['Target']"
   ]
  },
  {
   "cell_type": "code",
   "execution_count": 9,
   "metadata": {},
   "outputs": [
    {
     "data": {
      "text/html": [
       "<div>\n",
       "<style scoped>\n",
       "    .dataframe tbody tr th:only-of-type {\n",
       "        vertical-align: middle;\n",
       "    }\n",
       "\n",
       "    .dataframe tbody tr th {\n",
       "        vertical-align: top;\n",
       "    }\n",
       "\n",
       "    .dataframe thead th {\n",
       "        text-align: right;\n",
       "    }\n",
       "</style>\n",
       "<table border=\"1\" class=\"dataframe\">\n",
       "  <thead>\n",
       "    <tr style=\"text-align: right;\">\n",
       "      <th></th>\n",
       "      <th>V3</th>\n",
       "      <th>V4</th>\n",
       "      <th>V6</th>\n",
       "      <th>V7</th>\n",
       "      <th>V8</th>\n",
       "      <th>V9</th>\n",
       "      <th>V10</th>\n",
       "      <th>V12</th>\n",
       "      <th>column_label_cuid</th>\n",
       "      <th>coulumn_label_eid</th>\n",
       "      <th>V5_month</th>\n",
       "      <th>V5_day</th>\n",
       "      <th>V13_month</th>\n",
       "      <th>V13_day</th>\n",
       "    </tr>\n",
       "  </thead>\n",
       "  <tbody>\n",
       "    <tr>\n",
       "      <th>0</th>\n",
       "      <td>EID2062082</td>\n",
       "      <td>485.69445</td>\n",
       "      <td>376474</td>\n",
       "      <td>A</td>\n",
       "      <td>BA1</td>\n",
       "      <td>BB425559</td>\n",
       "      <td>PD44707</td>\n",
       "      <td>CP0</td>\n",
       "      <td>0.0</td>\n",
       "      <td>NaN</td>\n",
       "      <td>3</td>\n",
       "      <td>20</td>\n",
       "      <td>3.0</td>\n",
       "      <td>21.0</td>\n",
       "    </tr>\n",
       "    <tr>\n",
       "      <th>1</th>\n",
       "      <td>EID1459012</td>\n",
       "      <td>393.45200</td>\n",
       "      <td>33227</td>\n",
       "      <td>A</td>\n",
       "      <td>BA4793</td>\n",
       "      <td>BB248012</td>\n",
       "      <td>PD39453</td>\n",
       "      <td>CP0</td>\n",
       "      <td>0.0</td>\n",
       "      <td>NaN</td>\n",
       "      <td>4</td>\n",
       "      <td>28</td>\n",
       "      <td>4.0</td>\n",
       "      <td>28.0</td>\n",
       "    </tr>\n",
       "    <tr>\n",
       "      <th>2</th>\n",
       "      <td>EID0</td>\n",
       "      <td>375.75000</td>\n",
       "      <td>0</td>\n",
       "      <td>F</td>\n",
       "      <td>BA5631</td>\n",
       "      <td>BB166256</td>\n",
       "      <td>PD237664</td>\n",
       "      <td>CP0</td>\n",
       "      <td>0.0</td>\n",
       "      <td>1.0</td>\n",
       "      <td>8</td>\n",
       "      <td>15</td>\n",
       "      <td>NaN</td>\n",
       "      <td>NaN</td>\n",
       "    </tr>\n",
       "    <tr>\n",
       "      <th>3</th>\n",
       "      <td>EID0</td>\n",
       "      <td>6.97225</td>\n",
       "      <td>0</td>\n",
       "      <td>C</td>\n",
       "      <td>BA7188</td>\n",
       "      <td>BB354924</td>\n",
       "      <td>PD99032</td>\n",
       "      <td>CP0</td>\n",
       "      <td>1.0</td>\n",
       "      <td>1.0</td>\n",
       "      <td>6</td>\n",
       "      <td>26</td>\n",
       "      <td>NaN</td>\n",
       "      <td>NaN</td>\n",
       "    </tr>\n",
       "    <tr>\n",
       "      <th>4</th>\n",
       "      <td>EID0</td>\n",
       "      <td>16.70000</td>\n",
       "      <td>0</td>\n",
       "      <td>C</td>\n",
       "      <td>BA7236</td>\n",
       "      <td>BB354924</td>\n",
       "      <td>PD63422</td>\n",
       "      <td>CP0</td>\n",
       "      <td>0.0</td>\n",
       "      <td>1.0</td>\n",
       "      <td>9</td>\n",
       "      <td>15</td>\n",
       "      <td>NaN</td>\n",
       "      <td>NaN</td>\n",
       "    </tr>\n",
       "    <tr>\n",
       "      <th>...</th>\n",
       "      <td>...</td>\n",
       "      <td>...</td>\n",
       "      <td>...</td>\n",
       "      <td>...</td>\n",
       "      <td>...</td>\n",
       "      <td>...</td>\n",
       "      <td>...</td>\n",
       "      <td>...</td>\n",
       "      <td>...</td>\n",
       "      <td>...</td>\n",
       "      <td>...</td>\n",
       "      <td>...</td>\n",
       "      <td>...</td>\n",
       "      <td>...</td>\n",
       "    </tr>\n",
       "    <tr>\n",
       "      <th>233628</th>\n",
       "      <td>EID430976</td>\n",
       "      <td>41.75000</td>\n",
       "      <td>391083</td>\n",
       "      <td>A</td>\n",
       "      <td>BA431477</td>\n",
       "      <td>BB282621</td>\n",
       "      <td>PD206909</td>\n",
       "      <td>CP443835</td>\n",
       "      <td>0.0</td>\n",
       "      <td>NaN</td>\n",
       "      <td>9</td>\n",
       "      <td>6</td>\n",
       "      <td>2.0</td>\n",
       "      <td>3.0</td>\n",
       "    </tr>\n",
       "    <tr>\n",
       "      <th>233629</th>\n",
       "      <td>EID2012983</td>\n",
       "      <td>83.50000</td>\n",
       "      <td>391083</td>\n",
       "      <td>A</td>\n",
       "      <td>BA431477</td>\n",
       "      <td>BB282621</td>\n",
       "      <td>PD206909</td>\n",
       "      <td>CP443835</td>\n",
       "      <td>0.0</td>\n",
       "      <td>NaN</td>\n",
       "      <td>8</td>\n",
       "      <td>19</td>\n",
       "      <td>2.0</td>\n",
       "      <td>3.0</td>\n",
       "    </tr>\n",
       "    <tr>\n",
       "      <th>233630</th>\n",
       "      <td>EID1776806</td>\n",
       "      <td>41.75000</td>\n",
       "      <td>391083</td>\n",
       "      <td>A</td>\n",
       "      <td>BA431477</td>\n",
       "      <td>BB282621</td>\n",
       "      <td>PD206909</td>\n",
       "      <td>CP443835</td>\n",
       "      <td>0.0</td>\n",
       "      <td>NaN</td>\n",
       "      <td>8</td>\n",
       "      <td>26</td>\n",
       "      <td>2.0</td>\n",
       "      <td>3.0</td>\n",
       "    </tr>\n",
       "    <tr>\n",
       "      <th>233631</th>\n",
       "      <td>EID631635</td>\n",
       "      <td>167.00000</td>\n",
       "      <td>53</td>\n",
       "      <td>E</td>\n",
       "      <td>BA447678</td>\n",
       "      <td>BB447445</td>\n",
       "      <td>PD0</td>\n",
       "      <td>CP443835</td>\n",
       "      <td>0.0</td>\n",
       "      <td>NaN</td>\n",
       "      <td>4</td>\n",
       "      <td>15</td>\n",
       "      <td>4.0</td>\n",
       "      <td>16.0</td>\n",
       "    </tr>\n",
       "    <tr>\n",
       "      <th>233632</th>\n",
       "      <td>EID1368225</td>\n",
       "      <td>167.00000</td>\n",
       "      <td>53</td>\n",
       "      <td>E</td>\n",
       "      <td>BA448035</td>\n",
       "      <td>BB446860</td>\n",
       "      <td>PD0</td>\n",
       "      <td>CP443835</td>\n",
       "      <td>0.0</td>\n",
       "      <td>NaN</td>\n",
       "      <td>6</td>\n",
       "      <td>13</td>\n",
       "      <td>6.0</td>\n",
       "      <td>14.0</td>\n",
       "    </tr>\n",
       "  </tbody>\n",
       "</table>\n",
       "<p>233633 rows × 14 columns</p>\n",
       "</div>"
      ],
      "text/plain": [
       "                V3         V4      V6 V7        V8        V9       V10   \n",
       "0       EID2062082  485.69445  376474  A       BA1  BB425559   PD44707  \\\n",
       "1       EID1459012  393.45200   33227  A    BA4793  BB248012   PD39453   \n",
       "2             EID0  375.75000       0  F    BA5631  BB166256  PD237664   \n",
       "3             EID0    6.97225       0  C    BA7188  BB354924   PD99032   \n",
       "4             EID0   16.70000       0  C    BA7236  BB354924   PD63422   \n",
       "...            ...        ...     ... ..       ...       ...       ...   \n",
       "233628   EID430976   41.75000  391083  A  BA431477  BB282621  PD206909   \n",
       "233629  EID2012983   83.50000  391083  A  BA431477  BB282621  PD206909   \n",
       "233630  EID1776806   41.75000  391083  A  BA431477  BB282621  PD206909   \n",
       "233631   EID631635  167.00000      53  E  BA447678  BB447445       PD0   \n",
       "233632  EID1368225  167.00000      53  E  BA448035  BB446860       PD0   \n",
       "\n",
       "             V12  column_label_cuid  coulumn_label_eid  V5_month  V5_day   \n",
       "0            CP0                0.0                NaN         3      20  \\\n",
       "1            CP0                0.0                NaN         4      28   \n",
       "2            CP0                0.0                1.0         8      15   \n",
       "3            CP0                1.0                1.0         6      26   \n",
       "4            CP0                0.0                1.0         9      15   \n",
       "...          ...                ...                ...       ...     ...   \n",
       "233628  CP443835                0.0                NaN         9       6   \n",
       "233629  CP443835                0.0                NaN         8      19   \n",
       "233630  CP443835                0.0                NaN         8      26   \n",
       "233631  CP443835                0.0                NaN         4      15   \n",
       "233632  CP443835                0.0                NaN         6      13   \n",
       "\n",
       "        V13_month  V13_day  \n",
       "0             3.0     21.0  \n",
       "1             4.0     28.0  \n",
       "2             NaN      NaN  \n",
       "3             NaN      NaN  \n",
       "4             NaN      NaN  \n",
       "...           ...      ...  \n",
       "233628        2.0      3.0  \n",
       "233629        2.0      3.0  \n",
       "233630        2.0      3.0  \n",
       "233631        4.0     16.0  \n",
       "233632        6.0     14.0  \n",
       "\n",
       "[233633 rows x 14 columns]"
      ]
     },
     "execution_count": 9,
     "metadata": {},
     "output_type": "execute_result"
    }
   ],
   "source": [
    "x_tr"
   ]
  },
  {
   "cell_type": "code",
   "execution_count": 12,
   "metadata": {},
   "outputs": [],
   "source": [
    "categorical_cols = ['V3', 'V7', 'V8', 'V9', 'V10', 'V12']\n",
    "label_encoder = LabelEncoder()\n",
    "for col in categorical_cols:\n",
    "    x_tr[col] = label_encoder.fit_transform(x_tr[col])"
   ]
  },
  {
   "cell_type": "code",
   "execution_count": 13,
   "metadata": {},
   "outputs": [],
   "source": [
    "x_tr_n, x_val, y_tr_n, y_val = train_test_split(x_tr, y_tr, test_size=0.3, random_state=42)"
   ]
  },
  {
   "cell_type": "code",
   "execution_count": 14,
   "metadata": {},
   "outputs": [
    {
     "name": "stdout",
     "output_type": "stream",
     "text": [
      "Epoch 1/10\n",
      "5111/5111 [==============================] - 9s 2ms/step - loss: nan - accuracy: 0.9944\n",
      "Epoch 2/10\n",
      "5111/5111 [==============================] - 8s 2ms/step - loss: nan - accuracy: 0.9944\n",
      "Epoch 3/10\n",
      "5111/5111 [==============================] - 8s 2ms/step - loss: nan - accuracy: 0.9944\n",
      "Epoch 4/10\n",
      "5111/5111 [==============================] - 8s 1ms/step - loss: nan - accuracy: 0.9944\n",
      "Epoch 5/10\n",
      "5111/5111 [==============================] - 8s 2ms/step - loss: nan - accuracy: 0.9944\n",
      "Epoch 6/10\n",
      "5111/5111 [==============================] - 8s 2ms/step - loss: nan - accuracy: 0.9944\n",
      "Epoch 7/10\n",
      "5111/5111 [==============================] - 8s 2ms/step - loss: nan - accuracy: 0.9944\n",
      "Epoch 8/10\n",
      "5111/5111 [==============================] - 9s 2ms/step - loss: nan - accuracy: 0.9944\n",
      "Epoch 9/10\n",
      "5111/5111 [==============================] - 9s 2ms/step - loss: nan - accuracy: 0.9944\n",
      "Epoch 10/10\n",
      "5111/5111 [==============================] - 9s 2ms/step - loss: nan - accuracy: 0.9944\n"
     ]
    },
    {
     "data": {
      "text/plain": [
       "<keras.callbacks.History at 0x2134a6c5290>"
      ]
     },
     "execution_count": 14,
     "metadata": {},
     "output_type": "execute_result"
    }
   ],
   "source": [
    "from keras.models import Sequential\n",
    "from keras.layers import Dense\n",
    "\n",
    "model = Sequential()\n",
    "model.add(Dense(64, activation='relu', input_dim=x_tr_n.shape[1]))\n",
    "model.add(Dense(32, activation='relu'))\n",
    "model.add(Dense(1, activation='sigmoid'))\n",
    "model.compile(optimizer='adam', loss='binary_crossentropy', metrics=['accuracy'])\n",
    "\n",
    "model.fit(x_tr_n, y_tr_n, epochs=10, batch_size=32)"
   ]
  },
  {
   "cell_type": "code",
   "execution_count": 29,
   "metadata": {},
   "outputs": [],
   "source": [
    "test_df = pd.read_csv('mod_test.csv')\n",
    "test_df['Target'] = np.random\n",
    "# df_tr['V5_yearday'] = pd.to_datetime(df_tr['V5']).dt.day_of_year\n",
    "test_df['V5_month'] = pd.to_datetime(test_df['V5'], dayfirst=1).dt.month\n",
    "test_df['V5_day'] = pd.to_datetime(test_df['V5'], dayfirst=1).dt.day\n",
    "# test_df['V5_hour'] = pd.to_datetime(test_df['V5'], dayfirst=1).dt.hour\n",
    "# df_tr['V13_yearday'] = pd.to_datetime(df_tr['V13']).dt.day_of_year\n",
    "test_df['V13_month'] = pd.to_datetime(test_df['V13'], dayfirst=1).dt.month\n",
    "test_df['V13_day'] = pd.to_datetime(test_df['V13'], dayfirst=1).dt.day"
   ]
  },
  {
   "cell_type": "code",
   "execution_count": 30,
   "metadata": {},
   "outputs": [],
   "source": [
    "x_test = test_df.drop(columns_drop, axis=1)"
   ]
  },
  {
   "cell_type": "code",
   "execution_count": 31,
   "metadata": {},
   "outputs": [],
   "source": [
    "for col in categorical_cols:\n",
    "    x_test[col] = label_encoder.fit_transform(x_test[col])"
   ]
  },
  {
   "cell_type": "code",
   "execution_count": 34,
   "metadata": {},
   "outputs": [],
   "source": [
    "x_test.drop('Unnamed: 0', axis=1, inplace=True)"
   ]
  },
  {
   "cell_type": "code",
   "execution_count": 35,
   "metadata": {},
   "outputs": [
    {
     "name": "stdout",
     "output_type": "stream",
     "text": [
      "6746/6746 [==============================] - 8s 1ms/step\n"
     ]
    }
   ],
   "source": [
    "prediction = model.predict(x_test)"
   ]
  },
  {
   "cell_type": "code",
   "execution_count": 36,
   "metadata": {},
   "outputs": [],
   "source": [
    "probab = prediction[:,0]"
   ]
  },
  {
   "cell_type": "code",
   "execution_count": 37,
   "metadata": {},
   "outputs": [],
   "source": [
    "a = prediction[prediction>0]"
   ]
  },
  {
   "cell_type": "code",
   "execution_count": 38,
   "metadata": {},
   "outputs": [
    {
     "data": {
      "text/plain": [
       "0"
      ]
     },
     "execution_count": 38,
     "metadata": {},
     "output_type": "execute_result"
    }
   ],
   "source": [
    "len(a)"
   ]
  }
 ],
 "metadata": {
  "kernelspec": {
   "display_name": "Python 3",
   "language": "python",
   "name": "python3"
  },
  "language_info": {
   "codemirror_mode": {
    "name": "ipython",
    "version": 3
   },
   "file_extension": ".py",
   "mimetype": "text/x-python",
   "name": "python",
   "nbconvert_exporter": "python",
   "pygments_lexer": "ipython3",
   "version": "3.11.0 (main, Oct 24 2022, 18:26:48) [MSC v.1933 64 bit (AMD64)]"
  },
  "orig_nbformat": 4,
  "vscode": {
   "interpreter": {
    "hash": "5238573367df39f7286bb46f9ff5f08f63a01a80960060ce41e3c79b190280fa"
   }
  }
 },
 "nbformat": 4,
 "nbformat_minor": 2
}
